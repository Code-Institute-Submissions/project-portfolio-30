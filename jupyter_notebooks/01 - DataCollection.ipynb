{
  "cells": [
    {
      "attachments": {},
      "cell_type": "markdown",
      "metadata": {
        "id": "0aStgWSO0E0E"
      },
      "source": [
        "# Data Collection"
      ]
    },
    {
      "cell_type": "markdown",
      "metadata": {},
      "source": [
        "* Credit to Code Institute's [Malaria Detector Walkthrough Project](https://learn.codeinstitute.net/courses/course-v1:code_institute+CI_DA_ML+2021_Q4/courseware/07a3964f7a72407ea3e073542a2955bd/29ae4b4c67ed45a8a97bb9f4dcfa714b/) for the notebook layout and initial data collection and preparation steps below."
      ]
    },
    {
      "attachments": {},
      "cell_type": "markdown",
      "metadata": {
        "id": "1eLEkw5O0ECa"
      },
      "source": [
        "## Objectives\n",
        "\n",
        "* Fetch data from Kaggle and prepare it for further processes.\n",
        "\n",
        "## Inputs\n",
        "\n",
        "* A Kaggle JSON file - the authentication token. \n",
        "\n",
        "## Outputs\n",
        "\n",
        "* Generate Dataset: inputs/datasets/mildew_dataset.\n",
        "\n",
        "## Additional Comments\n",
        "\n",
        "* No additional comments.\n",
        "\n"
      ]
    },
    {
      "cell_type": "markdown",
      "metadata": {
        "id": "9uWZXH9LwoQg"
      },
      "source": [
        "---"
      ]
    },
    {
      "attachments": {},
      "cell_type": "markdown",
      "metadata": {},
      "source": [
        "# Import packages"
      ]
    },
    {
      "cell_type": "code",
      "execution_count": 1,
      "metadata": {},
      "outputs": [
        {
          "name": "stdout",
          "output_type": "stream",
          "text": [
            "Requirement already satisfied: absl-py==0.15.0 in /workspace/.pip-modules/lib/python3.8/site-packages (from -r /workspace/project-portfolio-5/requirements.txt (line 1)) (0.15.0)\n",
            "Requirement already satisfied: altair==4.2.0 in /workspace/.pip-modules/lib/python3.8/site-packages (from -r /workspace/project-portfolio-5/requirements.txt (line 2)) (4.2.0)\n",
            "Requirement already satisfied: astor==0.8.1 in /workspace/.pip-modules/lib/python3.8/site-packages (from -r /workspace/project-portfolio-5/requirements.txt (line 3)) (0.8.1)\n",
            "Requirement already satisfied: astunparse==1.6.3 in /workspace/.pip-modules/lib/python3.8/site-packages (from -r /workspace/project-portfolio-5/requirements.txt (line 4)) (1.6.3)\n",
            "Requirement already satisfied: backports.zoneinfo==0.2.1 in /workspace/.pip-modules/lib/python3.8/site-packages (from -r /workspace/project-portfolio-5/requirements.txt (line 5)) (0.2.1)\n",
            "Requirement already satisfied: base58==2.1.1 in /workspace/.pip-modules/lib/python3.8/site-packages (from -r /workspace/project-portfolio-5/requirements.txt (line 6)) (2.1.1)\n",
            "Requirement already satisfied: blinker==1.5 in /workspace/.pip-modules/lib/python3.8/site-packages (from -r /workspace/project-portfolio-5/requirements.txt (line 7)) (1.5)\n",
            "Requirement already satisfied: cachetools==5.2.0 in /workspace/.pip-modules/lib/python3.8/site-packages (from -r /workspace/project-portfolio-5/requirements.txt (line 8)) (5.2.0)\n",
            "Requirement already satisfied: clang==5.0 in /workspace/.pip-modules/lib/python3.8/site-packages (from -r /workspace/project-portfolio-5/requirements.txt (line 9)) (5.0)\n",
            "Requirement already satisfied: click==7.1.2 in /workspace/.pip-modules/lib/python3.8/site-packages (from -r /workspace/project-portfolio-5/requirements.txt (line 10)) (7.1.2)\n",
            "Requirement already satisfied: cycler==0.11.0 in /workspace/.pip-modules/lib/python3.8/site-packages (from -r /workspace/project-portfolio-5/requirements.txt (line 11)) (0.11.0)\n",
            "Requirement already satisfied: flatbuffers==1.12 in /workspace/.pip-modules/lib/python3.8/site-packages (from -r /workspace/project-portfolio-5/requirements.txt (line 12)) (1.12)\n",
            "Requirement already satisfied: gast==0.4.0 in /workspace/.pip-modules/lib/python3.8/site-packages (from -r /workspace/project-portfolio-5/requirements.txt (line 13)) (0.4.0)\n",
            "Requirement already satisfied: google-auth==2.15.0 in /workspace/.pip-modules/lib/python3.8/site-packages (from -r /workspace/project-portfolio-5/requirements.txt (line 14)) (2.15.0)\n",
            "Requirement already satisfied: google-auth-oauthlib==0.4.6 in /workspace/.pip-modules/lib/python3.8/site-packages (from -r /workspace/project-portfolio-5/requirements.txt (line 15)) (0.4.6)\n",
            "Requirement already satisfied: google-pasta==0.2.0 in /workspace/.pip-modules/lib/python3.8/site-packages (from -r /workspace/project-portfolio-5/requirements.txt (line 16)) (0.2.0)\n",
            "Requirement already satisfied: grpcio==1.51.1 in /workspace/.pip-modules/lib/python3.8/site-packages (from -r /workspace/project-portfolio-5/requirements.txt (line 17)) (1.51.1)\n",
            "Requirement already satisfied: h5py==3.1.0 in /workspace/.pip-modules/lib/python3.8/site-packages (from -r /workspace/project-portfolio-5/requirements.txt (line 18)) (3.1.0)\n",
            "Requirement already satisfied: joblib==1.2.0 in /workspace/.pip-modules/lib/python3.8/site-packages (from -r /workspace/project-portfolio-5/requirements.txt (line 19)) (1.2.0)\n",
            "Requirement already satisfied: kaggle==1.5.12 in /workspace/.pip-modules/lib/python3.8/site-packages (from -r /workspace/project-portfolio-5/requirements.txt (line 20)) (1.5.12)\n",
            "Requirement already satisfied: keras==2.6.0 in /workspace/.pip-modules/lib/python3.8/site-packages (from -r /workspace/project-portfolio-5/requirements.txt (line 21)) (2.6.0)\n",
            "Requirement already satisfied: Keras-Preprocessing==1.1.2 in /workspace/.pip-modules/lib/python3.8/site-packages (from -r /workspace/project-portfolio-5/requirements.txt (line 22)) (1.1.2)\n",
            "Requirement already satisfied: kiwisolver==1.4.4 in /workspace/.pip-modules/lib/python3.8/site-packages (from -r /workspace/project-portfolio-5/requirements.txt (line 23)) (1.4.4)\n",
            "Requirement already satisfied: Markdown==3.4.1 in /workspace/.pip-modules/lib/python3.8/site-packages (from -r /workspace/project-portfolio-5/requirements.txt (line 24)) (3.4.1)\n",
            "Requirement already satisfied: matplotlib==3.3.1 in /workspace/.pip-modules/lib/python3.8/site-packages (from -r /workspace/project-portfolio-5/requirements.txt (line 25)) (3.3.1)\n",
            "Requirement already satisfied: numpy==1.19.2 in /workspace/.pip-modules/lib/python3.8/site-packages (from -r /workspace/project-portfolio-5/requirements.txt (line 26)) (1.19.2)\n",
            "Requirement already satisfied: oauthlib==3.2.2 in /workspace/.pip-modules/lib/python3.8/site-packages (from -r /workspace/project-portfolio-5/requirements.txt (line 27)) (3.2.2)\n",
            "Requirement already satisfied: opt-einsum==3.3.0 in /workspace/.pip-modules/lib/python3.8/site-packages (from -r /workspace/project-portfolio-5/requirements.txt (line 28)) (3.3.0)\n",
            "Requirement already satisfied: pandas==1.1.2 in /workspace/.pip-modules/lib/python3.8/site-packages (from -r /workspace/project-portfolio-5/requirements.txt (line 29)) (1.1.2)\n",
            "Requirement already satisfied: Pillow==9.3.0 in /workspace/.pip-modules/lib/python3.8/site-packages (from -r /workspace/project-portfolio-5/requirements.txt (line 30)) (9.3.0)\n",
            "Requirement already satisfied: plotly==4.12.0 in /workspace/.pip-modules/lib/python3.8/site-packages (from -r /workspace/project-portfolio-5/requirements.txt (line 31)) (4.12.0)\n",
            "Requirement already satisfied: protobuf==3.20.3 in /workspace/.pip-modules/lib/python3.8/site-packages (from -r /workspace/project-portfolio-5/requirements.txt (line 32)) (3.20.3)\n",
            "Requirement already satisfied: pyarrow==10.0.1 in /workspace/.pip-modules/lib/python3.8/site-packages (from -r /workspace/project-portfolio-5/requirements.txt (line 33)) (10.0.1)\n",
            "Requirement already satisfied: pyasn1==0.4.8 in /workspace/.pip-modules/lib/python3.8/site-packages (from -r /workspace/project-portfolio-5/requirements.txt (line 34)) (0.4.8)\n",
            "Requirement already satisfied: pyasn1-modules==0.2.8 in /workspace/.pip-modules/lib/python3.8/site-packages (from -r /workspace/project-portfolio-5/requirements.txt (line 35)) (0.2.8)\n",
            "Requirement already satisfied: pydeck==0.8.0 in /workspace/.pip-modules/lib/python3.8/site-packages (from -r /workspace/project-portfolio-5/requirements.txt (line 36)) (0.8.0)\n",
            "Requirement already satisfied: pyparsing==3.0.9 in /workspace/.pip-modules/lib/python3.8/site-packages (from -r /workspace/project-portfolio-5/requirements.txt (line 37)) (3.0.9)\n",
            "Requirement already satisfied: python-slugify==7.0.0 in /workspace/.pip-modules/lib/python3.8/site-packages (from -r /workspace/project-portfolio-5/requirements.txt (line 38)) (7.0.0)\n",
            "Requirement already satisfied: pytz==2022.6 in /workspace/.pip-modules/lib/python3.8/site-packages (from -r /workspace/project-portfolio-5/requirements.txt (line 39)) (2022.6)\n",
            "Requirement already satisfied: pytz-deprecation-shim==0.1.0.post0 in /workspace/.pip-modules/lib/python3.8/site-packages (from -r /workspace/project-portfolio-5/requirements.txt (line 40)) (0.1.0.post0)\n",
            "Requirement already satisfied: requests-oauthlib==1.3.1 in /workspace/.pip-modules/lib/python3.8/site-packages (from -r /workspace/project-portfolio-5/requirements.txt (line 41)) (1.3.1)\n",
            "Requirement already satisfied: retrying==1.3.4 in /workspace/.pip-modules/lib/python3.8/site-packages (from -r /workspace/project-portfolio-5/requirements.txt (line 42)) (1.3.4)\n",
            "Requirement already satisfied: rsa==4.9 in /workspace/.pip-modules/lib/python3.8/site-packages (from -r /workspace/project-portfolio-5/requirements.txt (line 43)) (4.9)\n",
            "Requirement already satisfied: scikit-learn==0.24.2 in /workspace/.pip-modules/lib/python3.8/site-packages (from -r /workspace/project-portfolio-5/requirements.txt (line 44)) (0.24.2)\n",
            "Requirement already satisfied: scipy==1.9.3 in /workspace/.pip-modules/lib/python3.8/site-packages (from -r /workspace/project-portfolio-5/requirements.txt (line 45)) (1.9.3)\n",
            "Requirement already satisfied: seaborn==0.11.0 in /workspace/.pip-modules/lib/python3.8/site-packages (from -r /workspace/project-portfolio-5/requirements.txt (line 46)) (0.11.0)\n",
            "Requirement already satisfied: six==1.15.0 in /workspace/.pip-modules/lib/python3.8/site-packages (from -r /workspace/project-portfolio-5/requirements.txt (line 47)) (1.15.0)\n",
            "Requirement already satisfied: streamlit==0.85.0 in /workspace/.pip-modules/lib/python3.8/site-packages (from -r /workspace/project-portfolio-5/requirements.txt (line 48)) (0.85.0)\n",
            "Requirement already satisfied: tensorboard==2.11.0 in /workspace/.pip-modules/lib/python3.8/site-packages (from -r /workspace/project-portfolio-5/requirements.txt (line 49)) (2.11.0)\n",
            "Requirement already satisfied: tensorboard-data-server==0.6.1 in /workspace/.pip-modules/lib/python3.8/site-packages (from -r /workspace/project-portfolio-5/requirements.txt (line 50)) (0.6.1)\n",
            "Requirement already satisfied: tensorboard-plugin-wit==1.8.1 in /workspace/.pip-modules/lib/python3.8/site-packages (from -r /workspace/project-portfolio-5/requirements.txt (line 51)) (1.8.1)\n",
            "Requirement already satisfied: tensorflow-cpu==2.6.0 in /workspace/.pip-modules/lib/python3.8/site-packages (from -r /workspace/project-portfolio-5/requirements.txt (line 52)) (2.6.0)\n",
            "Requirement already satisfied: tensorflow-estimator==2.11.0 in /workspace/.pip-modules/lib/python3.8/site-packages (from -r /workspace/project-portfolio-5/requirements.txt (line 53)) (2.11.0)\n",
            "Requirement already satisfied: termcolor==1.1.0 in /workspace/.pip-modules/lib/python3.8/site-packages (from -r /workspace/project-portfolio-5/requirements.txt (line 54)) (1.1.0)\n",
            "Requirement already satisfied: text-unidecode==1.3 in /workspace/.pip-modules/lib/python3.8/site-packages (from -r /workspace/project-portfolio-5/requirements.txt (line 55)) (1.3)\n",
            "Requirement already satisfied: threadpoolctl==3.1.0 in /workspace/.pip-modules/lib/python3.8/site-packages (from -r /workspace/project-portfolio-5/requirements.txt (line 56)) (3.1.0)\n",
            "Requirement already satisfied: toml==0.10.2 in /workspace/.pip-modules/lib/python3.8/site-packages (from -r /workspace/project-portfolio-5/requirements.txt (line 57)) (0.10.2)\n",
            "Requirement already satisfied: toolz==0.12.0 in /workspace/.pip-modules/lib/python3.8/site-packages (from -r /workspace/project-portfolio-5/requirements.txt (line 58)) (0.12.0)\n",
            "Requirement already satisfied: tqdm==4.64.1 in /workspace/.pip-modules/lib/python3.8/site-packages (from -r /workspace/project-portfolio-5/requirements.txt (line 59)) (4.64.1)\n",
            "Requirement already satisfied: typing-extensions==3.7.4.3 in /workspace/.pip-modules/lib/python3.8/site-packages (from -r /workspace/project-portfolio-5/requirements.txt (line 60)) (3.7.4.3)\n",
            "Requirement already satisfied: tzdata==2022.7 in /workspace/.pip-modules/lib/python3.8/site-packages (from -r /workspace/project-portfolio-5/requirements.txt (line 61)) (2022.7)\n",
            "Requirement already satisfied: tzlocal==4.2 in /workspace/.pip-modules/lib/python3.8/site-packages (from -r /workspace/project-portfolio-5/requirements.txt (line 62)) (4.2)\n",
            "Requirement already satisfied: validators==0.20.0 in /workspace/.pip-modules/lib/python3.8/site-packages (from -r /workspace/project-portfolio-5/requirements.txt (line 63)) (0.20.0)\n",
            "Requirement already satisfied: watchdog==2.2.0 in /workspace/.pip-modules/lib/python3.8/site-packages (from -r /workspace/project-portfolio-5/requirements.txt (line 64)) (2.2.0)\n",
            "Requirement already satisfied: Werkzeug==2.2.2 in /workspace/.pip-modules/lib/python3.8/site-packages (from -r /workspace/project-portfolio-5/requirements.txt (line 65)) (2.2.2)\n",
            "Requirement already satisfied: wrapt==1.12.1 in /workspace/.pip-modules/lib/python3.8/site-packages (from -r /workspace/project-portfolio-5/requirements.txt (line 66)) (1.12.1)\n",
            "Requirement already satisfied: jinja2 in /home/gitpod/.pyenv/versions/3.8.12/lib/python3.8/site-packages (from altair==4.2.0->-r /workspace/project-portfolio-5/requirements.txt (line 2)) (3.1.2)\n",
            "Requirement already satisfied: jsonschema>=3.0 in /home/gitpod/.pyenv/versions/3.8.12/lib/python3.8/site-packages (from altair==4.2.0->-r /workspace/project-portfolio-5/requirements.txt (line 2)) (4.17.3)\n",
            "Requirement already satisfied: entrypoints in /home/gitpod/.pyenv/versions/3.8.12/lib/python3.8/site-packages (from altair==4.2.0->-r /workspace/project-portfolio-5/requirements.txt (line 2)) (0.4)\n",
            "Requirement already satisfied: wheel<1.0,>=0.23.0 in /home/gitpod/.pyenv/versions/3.8.12/lib/python3.8/site-packages (from astunparse==1.6.3->-r /workspace/project-portfolio-5/requirements.txt (line 4)) (0.38.4)\n",
            "Requirement already satisfied: certifi in /home/gitpod/.pyenv/versions/3.8.12/lib/python3.8/site-packages (from kaggle==1.5.12->-r /workspace/project-portfolio-5/requirements.txt (line 20)) (2022.12.7)\n",
            "Requirement already satisfied: urllib3 in /home/gitpod/.pyenv/versions/3.8.12/lib/python3.8/site-packages (from kaggle==1.5.12->-r /workspace/project-portfolio-5/requirements.txt (line 20)) (1.26.13)\n",
            "Requirement already satisfied: python-dateutil in /home/gitpod/.pyenv/versions/3.8.12/lib/python3.8/site-packages (from kaggle==1.5.12->-r /workspace/project-portfolio-5/requirements.txt (line 20)) (2.8.2)\n",
            "Requirement already satisfied: requests in /home/gitpod/.pyenv/versions/3.8.12/lib/python3.8/site-packages (from kaggle==1.5.12->-r /workspace/project-portfolio-5/requirements.txt (line 20)) (2.28.1)\n",
            "Requirement already satisfied: importlib-metadata>=4.4 in /home/gitpod/.pyenv/versions/3.8.12/lib/python3.8/site-packages (from Markdown==3.4.1->-r /workspace/project-portfolio-5/requirements.txt (line 24)) (5.1.0)\n",
            "Requirement already satisfied: attrs in /home/gitpod/.pyenv/versions/3.8.12/lib/python3.8/site-packages (from streamlit==0.85.0->-r /workspace/project-portfolio-5/requirements.txt (line 48)) (22.1.0)\n",
            "Requirement already satisfied: gitpython in /home/gitpod/.pyenv/versions/3.8.12/lib/python3.8/site-packages (from streamlit==0.85.0->-r /workspace/project-portfolio-5/requirements.txt (line 48)) (3.1.29)\n",
            "Requirement already satisfied: packaging in /home/gitpod/.pyenv/versions/3.8.12/lib/python3.8/site-packages (from streamlit==0.85.0->-r /workspace/project-portfolio-5/requirements.txt (line 48)) (22.0)\n",
            "Requirement already satisfied: tornado>=5.0 in /home/gitpod/.pyenv/versions/3.8.12/lib/python3.8/site-packages (from streamlit==0.85.0->-r /workspace/project-portfolio-5/requirements.txt (line 48)) (6.2)\n",
            "Requirement already satisfied: setuptools>=41.0.0 in /home/gitpod/.pyenv/versions/3.8.12/lib/python3.8/site-packages (from tensorboard==2.11.0->-r /workspace/project-portfolio-5/requirements.txt (line 49)) (65.6.3)\n",
            "Requirement already satisfied: decorator>=3.4.0 in /home/gitpod/.pyenv/versions/3.8.12/lib/python3.8/site-packages (from validators==0.20.0->-r /workspace/project-portfolio-5/requirements.txt (line 63)) (5.1.1)\n",
            "Requirement already satisfied: MarkupSafe>=2.1.1 in /home/gitpod/.pyenv/versions/3.8.12/lib/python3.8/site-packages (from Werkzeug==2.2.2->-r /workspace/project-portfolio-5/requirements.txt (line 65)) (2.1.1)\n",
            "Requirement already satisfied: zipp>=0.5 in /home/gitpod/.pyenv/versions/3.8.12/lib/python3.8/site-packages (from importlib-metadata>=4.4->Markdown==3.4.1->-r /workspace/project-portfolio-5/requirements.txt (line 24)) (3.11.0)\n",
            "Requirement already satisfied: pyrsistent!=0.17.0,!=0.17.1,!=0.17.2,>=0.14.0 in /home/gitpod/.pyenv/versions/3.8.12/lib/python3.8/site-packages (from jsonschema>=3.0->altair==4.2.0->-r /workspace/project-portfolio-5/requirements.txt (line 2)) (0.19.2)\n",
            "Requirement already satisfied: importlib-resources>=1.4.0 in /home/gitpod/.pyenv/versions/3.8.12/lib/python3.8/site-packages (from jsonschema>=3.0->altair==4.2.0->-r /workspace/project-portfolio-5/requirements.txt (line 2)) (5.10.1)\n",
            "Requirement already satisfied: pkgutil-resolve-name>=1.3.10 in /home/gitpod/.pyenv/versions/3.8.12/lib/python3.8/site-packages (from jsonschema>=3.0->altair==4.2.0->-r /workspace/project-portfolio-5/requirements.txt (line 2)) (1.3.10)\n",
            "Requirement already satisfied: charset-normalizer<3,>=2 in /home/gitpod/.pyenv/versions/3.8.12/lib/python3.8/site-packages (from requests->kaggle==1.5.12->-r /workspace/project-portfolio-5/requirements.txt (line 20)) (2.1.1)\n",
            "Requirement already satisfied: idna<4,>=2.5 in /home/gitpod/.pyenv/versions/3.8.12/lib/python3.8/site-packages (from requests->kaggle==1.5.12->-r /workspace/project-portfolio-5/requirements.txt (line 20)) (3.4)\n",
            "Requirement already satisfied: gitdb<5,>=4.0.1 in /home/gitpod/.pyenv/versions/3.8.12/lib/python3.8/site-packages (from gitpython->streamlit==0.85.0->-r /workspace/project-portfolio-5/requirements.txt (line 48)) (4.0.10)\n",
            "Requirement already satisfied: smmap<6,>=3.0.1 in /home/gitpod/.pyenv/versions/3.8.12/lib/python3.8/site-packages (from gitdb<5,>=4.0.1->gitpython->streamlit==0.85.0->-r /workspace/project-portfolio-5/requirements.txt (line 48)) (5.0.0)\n"
          ]
        }
      ],
      "source": [
        "! pip3 install -r /workspace/project-portfolio-5/requirements.txt"
      ]
    },
    {
      "cell_type": "code",
      "execution_count": 2,
      "metadata": {},
      "outputs": [],
      "source": [
        "import os\n",
        "import numpy"
      ]
    },
    {
      "cell_type": "markdown",
      "metadata": {
        "id": "cqP-UeN-z3i2"
      },
      "source": [
        "# Change working directory"
      ]
    },
    {
      "attachments": {},
      "cell_type": "markdown",
      "metadata": {
        "id": "aOGIGS-uz3i2"
      },
      "source": [
        "We need to change the working directory from its current folder to its parent folder"
      ]
    },
    {
      "cell_type": "code",
      "execution_count": 3,
      "metadata": {
        "id": "wZfF_j-Bz3i4",
        "outputId": "66943449-1436-4c3d-85c7-b85f9f78349b"
      },
      "outputs": [
        {
          "data": {
            "text/plain": [
              "'/workspace/project-portfolio-5/jupyter_notebooks'"
            ]
          },
          "execution_count": 3,
          "metadata": {},
          "output_type": "execute_result"
        }
      ],
      "source": [
        "current_dir = os.getcwd()\n",
        "current_dir"
      ]
    },
    {
      "attachments": {},
      "cell_type": "markdown",
      "metadata": {
        "id": "9MWW8E7lz3i7"
      },
      "source": [
        "We want to make the parent of the current directory the new current directory"
      ]
    },
    {
      "cell_type": "code",
      "execution_count": 4,
      "metadata": {
        "id": "TwHsQRWjz3i9",
        "outputId": "86849db3-cd2f-4cc5-ebb8-2d0caafa1a2c"
      },
      "outputs": [
        {
          "name": "stdout",
          "output_type": "stream",
          "text": [
            "You set a new current directory\n"
          ]
        }
      ],
      "source": [
        "os.chdir('/workspace/project-portfolio-5')\n",
        "print(\"You set a new current directory\")"
      ]
    },
    {
      "cell_type": "markdown",
      "metadata": {
        "id": "M_xPk_Ijz3i-"
      },
      "source": [
        "Confirm the new current directory"
      ]
    },
    {
      "cell_type": "code",
      "execution_count": 5,
      "metadata": {
        "id": "vz3S-_kjz3jA",
        "outputId": "00b79ae4-75d0-4a96-d193-ac9ef9847ea2"
      },
      "outputs": [
        {
          "data": {
            "text/plain": [
              "'/workspace/project-portfolio-5'"
            ]
          },
          "execution_count": 5,
          "metadata": {},
          "output_type": "execute_result"
        }
      ],
      "source": [
        "current_dir = os.getcwd()\n",
        "current_dir"
      ]
    },
    {
      "attachments": {},
      "cell_type": "markdown",
      "metadata": {},
      "source": [
        "# Data Collection"
      ]
    },
    {
      "attachments": {},
      "cell_type": "markdown",
      "metadata": {
        "id": "-mavJ8DibrcQ"
      },
      "source": [
        "Install Kaggle."
      ]
    },
    {
      "cell_type": "code",
      "execution_count": 6,
      "metadata": {},
      "outputs": [
        {
          "name": "stdout",
          "output_type": "stream",
          "text": [
            "Requirement already satisfied: kaggle in /workspace/.pip-modules/lib/python3.8/site-packages (1.5.12)\n",
            "Requirement already satisfied: certifi in /home/gitpod/.pyenv/versions/3.8.12/lib/python3.8/site-packages (from kaggle) (2022.12.7)\n",
            "Requirement already satisfied: urllib3 in /home/gitpod/.pyenv/versions/3.8.12/lib/python3.8/site-packages (from kaggle) (1.26.13)\n",
            "Requirement already satisfied: python-dateutil in /home/gitpod/.pyenv/versions/3.8.12/lib/python3.8/site-packages (from kaggle) (2.8.2)\n",
            "Requirement already satisfied: requests in /home/gitpod/.pyenv/versions/3.8.12/lib/python3.8/site-packages (from kaggle) (2.28.1)\n",
            "Requirement already satisfied: python-slugify in /workspace/.pip-modules/lib/python3.8/site-packages (from kaggle) (7.0.0)\n",
            "Requirement already satisfied: tqdm in /workspace/.pip-modules/lib/python3.8/site-packages (from kaggle) (4.64.1)\n",
            "Requirement already satisfied: six>=1.10 in /workspace/.pip-modules/lib/python3.8/site-packages (from kaggle) (1.15.0)\n",
            "Requirement already satisfied: text-unidecode>=1.3 in /workspace/.pip-modules/lib/python3.8/site-packages (from python-slugify->kaggle) (1.3)\n",
            "Requirement already satisfied: charset-normalizer<3,>=2 in /home/gitpod/.pyenv/versions/3.8.12/lib/python3.8/site-packages (from requests->kaggle) (2.1.1)\n",
            "Requirement already satisfied: idna<4,>=2.5 in /home/gitpod/.pyenv/versions/3.8.12/lib/python3.8/site-packages (from requests->kaggle) (3.4)\n"
          ]
        }
      ],
      "source": [
        "! pip3 install kaggle"
      ]
    },
    {
      "attachments": {},
      "cell_type": "markdown",
      "metadata": {},
      "source": [
        "Change the Kaggle configuration directory to the current working directory and set permissions for the Kaggle authentication JSON."
      ]
    },
    {
      "cell_type": "code",
      "execution_count": 7,
      "metadata": {},
      "outputs": [],
      "source": [
        "os.environ['KAGGLE_CONFIG_DIR'] = os.getcwd()\n",
        "! chmod 600 kaggle.json"
      ]
    },
    {
      "attachments": {},
      "cell_type": "markdown",
      "metadata": {},
      "source": [
        "Download the dataset for Kaggle."
      ]
    },
    {
      "cell_type": "code",
      "execution_count": 8,
      "metadata": {},
      "outputs": [
        {
          "name": "stdout",
          "output_type": "stream",
          "text": [
            "Downloading cherry-leaves.zip to inputs/mildew_dataset\n",
            " 91%|██████████████████████████████████▌   | 50.0M/55.0M [00:02<00:00, 26.5MB/s]\n",
            "100%|██████████████████████████████████████| 55.0M/55.0M [00:02<00:00, 24.0MB/s]\n"
          ]
        }
      ],
      "source": [
        "KaggleDatasetPath = \"codeinstitute/cherry-leaves\"\n",
        "DestinationFolder = \"inputs/mildew_dataset\"\n",
        "! kaggle datasets download -d {KaggleDatasetPath} -p {DestinationFolder}"
      ]
    },
    {
      "attachments": {},
      "cell_type": "markdown",
      "metadata": {},
      "source": [
        "Unzip the downloaded file and remove the .zip file."
      ]
    },
    {
      "cell_type": "code",
      "execution_count": 9,
      "metadata": {},
      "outputs": [],
      "source": [
        "import zipfile\n",
        "with zipfile.ZipFile(DestinationFolder + '/cherry-leaves.zip', 'r') as zip_ref:\n",
        "    zip_ref.extractall(DestinationFolder)\n",
        "\n",
        "os.remove(DestinationFolder + '/cherry-leaves.zip')"
      ]
    },
    {
      "cell_type": "markdown",
      "metadata": {
        "id": "ZY3l0-AxO93d"
      },
      "source": [
        "---"
      ]
    },
    {
      "attachments": {},
      "cell_type": "markdown",
      "metadata": {
        "id": "uFQo3ycuO-v6"
      },
      "source": [
        "# Data Preparation"
      ]
    },
    {
      "attachments": {},
      "cell_type": "markdown",
      "metadata": {},
      "source": [
        "Data cleaning."
      ]
    },
    {
      "attachments": {},
      "cell_type": "markdown",
      "metadata": {},
      "source": [
        "Check for and remove non-image files and display total number of files."
      ]
    },
    {
      "cell_type": "code",
      "execution_count": 10,
      "metadata": {},
      "outputs": [],
      "source": [
        "def remove_non_image_file(my_data_dir):\n",
        "    image_extension = ('.png', '.jpg', '.jpeg')\n",
        "    folders = os.listdir(my_data_dir)\n",
        "    for folder in folders:\n",
        "        files = os.listdir(my_data_dir + '/' + folder)\n",
        "        i = []\n",
        "        j = []\n",
        "        for given_file in files:\n",
        "            if not given_file.lower().endswith(image_extension):\n",
        "                file_location = my_data_dir + '/' + folder + '/' + given_file\n",
        "                os.remove(file_location)\n",
        "                i.append(1)\n",
        "            else:\n",
        "                j.append(1)\n",
        "                pass\n",
        "        print(f\"Folder: {folder} - has image file\", len(j))\n",
        "        print(f\"Folder: {folder} - has non-image file\", len(i))"
      ]
    },
    {
      "cell_type": "code",
      "execution_count": 11,
      "metadata": {},
      "outputs": [
        {
          "name": "stdout",
          "output_type": "stream",
          "text": [
            "Folder: healthy - has image file 2104\n",
            "Folder: healthy - has non-image file 0\n",
            "Folder: powdery_mildew - has image file 2104\n",
            "Folder: powdery_mildew - has non-image file 0\n"
          ]
        }
      ],
      "source": [
        "remove_non_image_file(my_data_dir='inputs/mildew_dataset/cherry-leaves')"
      ]
    },
    {
      "attachments": {},
      "cell_type": "markdown",
      "metadata": {},
      "source": [
        "Split train, validatation, test sets"
      ]
    },
    {
      "cell_type": "code",
      "execution_count": 12,
      "metadata": {},
      "outputs": [],
      "source": [
        "import os\n",
        "import shutil\n",
        "import random\n",
        "import joblib\n",
        "\n",
        "\n",
        "def split_train_validation_test_images(my_data_dir, train_set_ratio, validation_set_ratio, test_set_ratio):\n",
        "\n",
        "    if train_set_ratio + validation_set_ratio + test_set_ratio != 1.0:\n",
        "        print(\"train_set_ratio + validation_set_ratio + test_set_ratio should sum to 1.0\")\n",
        "        return\n",
        "\n",
        "    # gets classes labels\n",
        "    labels = os.listdir(my_data_dir)\n",
        "    if 'test' in labels:\n",
        "        pass\n",
        "    else:\n",
        "        # create train, test folders with classes labels sub-folder\n",
        "        for folder in ['train', 'validation', 'test']:\n",
        "            for label in labels:\n",
        "                os.makedirs(name=my_data_dir + '/' + folder + '/' + label)\n",
        "\n",
        "        for label in labels:\n",
        "\n",
        "            files = os.listdir(my_data_dir + '/' + label)\n",
        "            random.shuffle(files)\n",
        "\n",
        "            train_set_files_qty = int(len(files) * train_set_ratio)\n",
        "            validation_set_files_qty = int(len(files) * validation_set_ratio)\n",
        "\n",
        "            count = 1\n",
        "            for file_name in files:\n",
        "                if count <= train_set_files_qty:\n",
        "                    # move a given file to the train set\n",
        "                    shutil.move(my_data_dir + '/' + label + '/' + file_name,\n",
        "                                my_data_dir + '/train/' + label + '/' + file_name)\n",
        "\n",
        "                elif count <= (train_set_files_qty + validation_set_files_qty):\n",
        "                    # move a given file to the validation set\n",
        "                    shutil.move(my_data_dir + '/' + label + '/' + file_name,\n",
        "                                my_data_dir + '/validation/' + label + '/' + file_name)\n",
        "\n",
        "                else:\n",
        "                    # move given file to test set\n",
        "                    shutil.move(my_data_dir + '/' + label + '/' + file_name,\n",
        "                                my_data_dir + '/test/' + label + '/' + file_name)\n",
        "\n",
        "                count += 1\n",
        "\n",
        "            os.rmdir(my_data_dir + '/' + label)\n"
      ]
    },
    {
      "attachments": {},
      "cell_type": "markdown",
      "metadata": {},
      "source": [
        "It is the industry standard to divide the data as follows;\n",
        "* Training set is divided into 0.70 ratio of the data,\n",
        "* Validation set is divided into 0.10 ratio of the data, and\n",
        "* Test set is divided into 0.20 ratio of the the data."
      ]
    },
    {
      "cell_type": "code",
      "execution_count": 13,
      "metadata": {},
      "outputs": [],
      "source": [
        "split_train_validation_test_images(my_data_dir=f\"inputs/mildew_dataset/cherry-leaves\",\n",
        "                                   train_set_ratio=0.7,\n",
        "                                   validation_set_ratio=0.1,\n",
        "                                   test_set_ratio=0.2\n",
        "                                   )"
      ]
    },
    {
      "cell_type": "markdown",
      "metadata": {},
      "source": [
        "---"
      ]
    },
    {
      "attachments": {},
      "cell_type": "markdown",
      "metadata": {
        "id": "ltNetd085qHf"
      },
      "source": [
        "# Conclusions and Next Steps"
      ]
    },
    {
      "attachments": {},
      "cell_type": "markdown",
      "metadata": {},
      "source": [
        "---"
      ]
    },
    {
      "attachments": {},
      "cell_type": "markdown",
      "metadata": {},
      "source": [
        "Now that the dataset has been successfully downloaded and split into train, validation and test sets; we are now ready to proceed to prepare the data for visualisation and deeper study and understanding."
      ]
    }
  ],
  "metadata": {
    "accelerator": "GPU",
    "colab": {
      "name": "Data Practitioner Jupyter Notebook.ipynb",
      "provenance": [],
      "toc_visible": true
    },
    "interpreter": {
      "hash": "8b8334dab9339717f727a1deaf837b322d7a41c20d15cc86be99a8e69ceec8ce"
    },
    "kernelspec": {
      "display_name": "Python 3.8.12 64-bit ('3.8.12': pyenv)",
      "name": "python3"
    },
    "language_info": {
      "codemirror_mode": {
        "name": "ipython",
        "version": 3
      },
      "file_extension": ".py",
      "mimetype": "text/x-python",
      "name": "python",
      "nbconvert_exporter": "python",
      "pygments_lexer": "ipython3",
      "version": "3.8.12"
    },
    "orig_nbformat": 2
  },
  "nbformat": 4,
  "nbformat_minor": 2
}
